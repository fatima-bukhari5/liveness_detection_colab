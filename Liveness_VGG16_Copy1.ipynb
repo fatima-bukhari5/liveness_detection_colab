{
  "cells": [
    {
      "cell_type": "markdown",
      "metadata": {
        "id": "view-in-github",
        "colab_type": "text"
      },
      "source": [
        "<a href=\"https://colab.research.google.com/github/fatima-bukhari5/liveness_detection_colab/blob/main/Liveness_VGG16_Copy1.ipynb\" target=\"_parent\"><img src=\"https://colab.research.google.com/assets/colab-badge.svg\" alt=\"Open In Colab\"/></a>"
      ]
    },
    {
      "cell_type": "markdown",
      "id": "27af8f73",
      "metadata": {
        "id": "27af8f73"
      },
      "source": [
        "## Library Imports"
      ]
    },
    {
      "cell_type": "code",
      "execution_count": 4,
      "id": "2e3311ab",
      "metadata": {
        "id": "2e3311ab"
      },
      "outputs": [],
      "source": [
        "# Reference section to call important lib.\n",
        "\n",
        "# mathemathical & data manupulation\n",
        "import numpy as np          # numpy for mathemathical operations\n",
        "import pandas as pd         # to manage data in two dimension structures\n",
        "\n",
        "# O/S, command line, serialization, deserialization, iterations\n",
        "import argparse             # command line arguments management.\n",
        "import pickle               # pickle for object serialization/de-serialization\n",
        "import os                   # to interact with operating system\n",
        "import itertools            # to enhance iteration over object, i.e. for loop\n",
        "\n",
        "# image processing\n",
        "import cv2                  # opencv for image pre-processing\n",
        "from imutils import paths   # another convienance for image processing like opencv\n",
        "\n",
        "# For Data visualization & charts\n",
        "import matplotlib\n",
        "import matplotlib.pyplot as plt\n",
        "%matplotlib inline\n",
        "\n",
        "# Reference to Scikit Learn for data pre-processing & post training\n",
        "# performance evaluation. \n",
        "from sklearn.preprocessing import LabelEncoder\n",
        "from sklearn.metrics import confusion_matrix\n",
        "from sklearn.model_selection import train_test_split\n",
        "from sklearn.metrics import classification_report\n",
        "from sklearn.metrics import confusion_matrix\n",
        "\n",
        "# Reference to keras with tensorflow engine for model training.\n",
        "import keras\n",
        "from keras import backend as K\n",
        "from keras.models import Sequential\n",
        "from keras.layers import Activation\n",
        "from keras.models import Model\n",
        "from keras.layers.core import Dense, Flatten\n",
        "from keras.metrics import categorical_crossentropy\n",
        "from keras.preprocessing.image import ImageDataGenerator\n",
        "from tensorflow.keras.layers import BatchNormalization\n",
        "from keras.layers.convolutional import *\n",
        "from tensorflow.keras.preprocessing.image import ImageDataGenerator\n",
        "from tensorflow.keras.optimizers import Adam\n",
        "from tensorflow.keras.utils import to_categorical\n",
        "from tensorflow.keras import layers\n"
      ]
    },
    {
      "cell_type": "markdown",
      "id": "73100f8d",
      "metadata": {
        "id": "73100f8d"
      },
      "source": [
        "### Importing Data Sets"
      ]
    },
    {
      "cell_type": "code",
      "execution_count": 5,
      "id": "31d70324",
      "metadata": {
        "id": "31d70324"
      },
      "outputs": [],
      "source": [
        "INIT_LR = 0.0001  # a variable for learning rate parameter while training\n",
        "BS = 10           # ??????\n",
        "EPOCHS = 16        # a variable for number of epochs parameter while training model"
      ]
    },
    {
      "cell_type": "code",
      "source": [
        "from google.colab import drive\n",
        "drive.mount('/content/drive')"
      ],
      "metadata": {
        "colab": {
          "base_uri": "https://localhost:8080/"
        },
        "id": "U_-2X_GJJ3lh",
        "outputId": "74ab35fe-72ac-46b2-871d-f84e459330fd"
      },
      "id": "U_-2X_GJJ3lh",
      "execution_count": 6,
      "outputs": [
        {
          "output_type": "stream",
          "name": "stdout",
          "text": [
            "Mounted at /content/drive\n"
          ]
        }
      ]
    },
    {
      "cell_type": "code",
      "execution_count": 7,
      "id": "bf7a92e2",
      "metadata": {
        "id": "bf7a92e2"
      },
      "outputs": [],
      "source": [
        "# location for training, validation & testing dataset \n",
        "train_path = '/content/drive/MyDrive/real_and_fake/train'\n",
        "valid_path = '/content/drive/MyDrive/real_and_fake/valid'\n",
        "test_path = '/content/drive/MyDrive/real_and_fake/test'"
      ]
    },
    {
      "cell_type": "code",
      "execution_count": 8,
      "id": "87e481aa",
      "metadata": {
        "id": "87e481aa"
      },
      "outputs": [],
      "source": [
        "def read_image_data(X,Y, height, width):\n",
        "    '''\n",
        "    The following function is to convert the data into numpy array through\n",
        "    `data_processing` function and resize it according vgg16 input size \n",
        "    of 224 by 224.\n",
        "    \n",
        "    Requirement:  Convert input images to heightxwidth for VGG16\n",
        "    Usage:        Pre-Processing.\n",
        "    Functionality:\n",
        "                  1. load images one by one from folder, resize & attach lable.\n",
        "                  2. Convert image to numpy array & return array with lable. \n",
        "    Parameters:\n",
        "                  X => df['Image paths'] (dataframe column of image paths)\n",
        "                  Y => df['Labels'] (dataframe column of image labels)\n",
        "\n",
        "    Returns:      `image` in the form of numpy array & labels as encoded.\n",
        "    '''\n",
        "    # to do: variables & parmeters naming convention.\n",
        "    # declaration Section\n",
        "    data =[]                                      # An array to hold images.\n",
        "    labels = Y                                    # A variable to hold label from parameter.\n",
        "    # execution section    \n",
        "    # to do: exception handling\n",
        "    for path in X:                                # for each image in a given folder.\n",
        "        image = cv2.imread(path)                  # reading image from given path.\n",
        "        image = cv2.resize(image,(height,width))       # resizing image as of input requirement.\n",
        "        data.append(image)                        # add image to declared array structure.\n",
        "    data, labels = data_processing(data, labels)  # Calling & passing parameters to data_processing function.\n",
        "    # to do: use python log api for console message, if any. print is childish.\n",
        "    print('[INFO] Converting Data into Image form and encoding labels')\n",
        "    # return section\n",
        "    return data, labels"
      ]
    },
    {
      "cell_type": "code",
      "execution_count": 9,
      "id": "f27e579d",
      "metadata": {
        "id": "f27e579d"
      },
      "outputs": [],
      "source": [
        "def data_organization(img_path):\n",
        "    '''\n",
        "    This function is to organize the data in the form of data frames to have clear understanding \n",
        "    and readability of data w.r.t to its labels\n",
        "\n",
        "    Parameters: \n",
        "    img_path = folder path of images base folder as string\n",
        "\n",
        "    Returns: dataframe with organized image paths and their labels\n",
        "    '''\n",
        "    print(\"Getting labels for images...\")\n",
        "    data = []\n",
        "    labels = []\n",
        "    list_image_path = []\n",
        "    folders_list = os.listdir(img_path)\n",
        "    \n",
        "    # loop over all folders at a time. i.e real and fake\n",
        "    for folder in folders_list:\n",
        "        \n",
        "        # extract the class label from the filename to add into the df\n",
        "    \n",
        "        folder_path = os.path.join(img_path,folder)\n",
        "        images_list = os.listdir(folder_path)\n",
        "        for image_name in images_list:\n",
        "            label = folder\n",
        "            imagePath = os.path.join(folder_path,image_name)\n",
        "            labels.append(label)\n",
        "            list_image_path.append(imagePath)\n",
        "            \n",
        "    image_path_label = {'image_path': list_image_path,'labels':labels}\n",
        "    df_image_path_label = pd.DataFrame(image_path_label)\n",
        "    \n",
        "    print(\"DataFrame Complete....\")\n",
        "    return df_image_path_label"
      ]
    },
    {
      "cell_type": "code",
      "execution_count": 10,
      "id": "2ee6bfb9",
      "metadata": {
        "id": "2ee6bfb9"
      },
      "outputs": [],
      "source": [
        "def data_processing(data,labels):\n",
        "    '''\n",
        "    Data processing to convert images data to numpy along with label encoding\n",
        "    \n",
        "    Parameters:\n",
        "    data -> list of images data\n",
        "    labels -> list of labels\n",
        "    \n",
        "    returns:\n",
        "    data, labels as numpy array of image data and encoded labels\n",
        "    '''\n",
        "    data = np.array(data, dtype=\"float\")\n",
        "    le = LabelEncoder()\n",
        "    labels = le.fit_transform(labels)\n",
        "    labels = to_categorical(labels, 2)\n",
        "    \n",
        "    return data, labels"
      ]
    },
    {
      "cell_type": "markdown",
      "id": "a85f96f8",
      "metadata": {
        "id": "a85f96f8"
      },
      "source": [
        "## Build Fine-tuned VGG16 model"
      ]
    },
    {
      "cell_type": "markdown",
      "id": "f93d681e",
      "metadata": {
        "id": "f93d681e"
      },
      "source": [
        "VGG16 Model was used in an ImageNet competition where thousands of images were classified into different categories. We'll be using this model as a baseline and fine tune it as to our specific requirements. \n",
        "VGG16 in itself is a model that classifies images into a number of classes that are not limited to just two. In our case the output layer requires just two nodes representing two classes as `real` and `fake`. So, we will be tuning the model accordingly. \n",
        "<br>\n",
        "<br>\n",
        "\n",
        "Importing the model will take time as its a file of size almost 17 MB "
      ]
    },
    {
      "cell_type": "code",
      "execution_count": 11,
      "id": "1c3ab0c0",
      "metadata": {
        "id": "1c3ab0c0"
      },
      "outputs": [],
      "source": [
        "def model_training(train_data, train_labels, val_data, val_labels):\n",
        "    '''\n",
        "    The function is involved with \n",
        "        - data augmentation \n",
        "        - sequential model initialization\n",
        "        - using vgg16 model layers as base layers for the new model.\n",
        "        - compiling the model\n",
        "        - training the model\n",
        "    \n",
        "    returns a trained model file\n",
        "    '''\n",
        "    # construct the training image generator for data augmentation\n",
        "    aug = ImageDataGenerator(rotation_range=20, zoom_range=0.15,\n",
        "        width_shift_range=0.2, height_shift_range=0.2, shear_range=0.15,\n",
        "        horizontal_flip=True, fill_mode=\"nearest\")\n",
        "   \n",
        "    print(\"[INFO] importing VGG16 \")\n",
        "    vgg16_model = keras.applications.vgg16.VGG16(include_top=True)\n",
        "    \n",
        "    # getting a sequential model and freezing the previous\n",
        "    model = Sequential()\n",
        "    for layer in vgg16_model.layers[:-1]:\n",
        "        model.add(layer)\n",
        "    \n",
        "    # After poping the last layer, freeze the previous layers and adding a new dense output layer\n",
        "    for layer in model.layers:\n",
        "        layer.trainable = False\n",
        "    model.add(Dense(2, activation='softmax'))\n",
        "    \n",
        "    # initialize the optimizer and model\n",
        "    print(\"[INFO] compiling model...\")\n",
        "    opt = Adam(lr=INIT_LR)\n",
        "    \n",
        "    model.compile(loss=\"binary_crossentropy\", optimizer=opt, metrics=[\"accuracy\"])\n",
        "    \n",
        "    # train the network\n",
        "    print(\"[INFO] training network for {} epochs...\".format(EPOCHS))\n",
        "    \n",
        "    model.fit(x=aug.flow(train_data, train_labels, batch_size=BS),\n",
        "        validation_data=(val_data, val_labels), validation_steps=5, steps_per_epoch=len(train_data) / BS,\n",
        "        epochs=EPOCHS)\n",
        "    \n",
        "    return model"
      ]
    },
    {
      "cell_type": "code",
      "execution_count": 12,
      "id": "4040f21a",
      "metadata": {
        "id": "4040f21a"
      },
      "outputs": [],
      "source": [
        "def get_predictions(model, df_testing, height, width):\n",
        "    '''\n",
        "    Getting predictions w.r.t to the trained model as passed and the training data\n",
        "    \n",
        "    Parameters:\n",
        "    model: trained model\n",
        "    df_testing: data for testing in the form of dataframe\n",
        "    \n",
        "    Returns:\n",
        "    \n",
        "    Predictions as 0 or 1 and true_labels after data processing\n",
        "    '''\n",
        "    \n",
        "    # getting test data in numpy \n",
        "    test_data, true_labels = read_image_data(df_testing['image_path'], df_testing['labels'], height, width) \n",
        "    \n",
        "    # gettin predictions against the model\n",
        "    print('[INFO] Getting Predictions')\n",
        "    predictions = model.predict(test_data, steps=1, verbose=0)\n",
        "    predictions_rounded = np.round(predictions)\n",
        "    \n",
        "    return predictions_rounded, true_labels"
      ]
    },
    {
      "cell_type": "code",
      "execution_count": 13,
      "id": "79d86f72",
      "metadata": {
        "id": "79d86f72"
      },
      "outputs": [],
      "source": [
        "def plot_confusion_matrix(cm, classes,\n",
        "                          normalize=False,\n",
        "                          title='Confusion matrix',\n",
        "                          cmap=plt.cm.Blues):\n",
        "    \"\"\"\n",
        "    This function prints and plots the confusion matrix.\n",
        "    Normalization can be applied by setting `normalize=True`.\n",
        "    \"\"\"\n",
        "    plt.imshow(cm, interpolation='nearest', cmap=cmap)\n",
        "    plt.title(title)\n",
        "    plt.colorbar()\n",
        "    tick_marks = np.arange(len(classes))\n",
        "    plt.xticks(tick_marks, classes, rotation=45)\n",
        "    plt.yticks(tick_marks, classes)\n",
        "\n",
        "    if normalize:\n",
        "        cm = cm.astype('float') / cm.sum(axis=1)[:, np.newaxis]\n",
        "        print(\"Normalized confusion matrix\")\n",
        "    else:\n",
        "        print('Confusion matrix, without normalization')\n",
        "\n",
        "    print(cm)\n",
        "\n",
        "    thresh = cm.max() / 2.\n",
        "    for i, j in itertools.product(range(cm.shape[0]), range(cm.shape[1])):\n",
        "        plt.text(j, i, cm[i, j],\n",
        "                 horizontalalignment=\"center\",\n",
        "                 color=\"white\" if cm[i, j] > thresh else \"black\")\n",
        "\n",
        "    plt.tight_layout()\n",
        "    plt.ylabel('True label')\n",
        "    plt.xlabel('Predicted label')"
      ]
    },
    {
      "cell_type": "code",
      "execution_count": 14,
      "id": "dd3f2ab5",
      "metadata": {
        "id": "dd3f2ab5"
      },
      "outputs": [],
      "source": [
        "def model_performance(predictions, true_labels):\n",
        "    '''\n",
        "    The model displays a confusion matrix using a previously built confusion matrix function taken from sklearn.\n",
        "    \n",
        "    Parameters:\n",
        "    predictions: previous predictions\n",
        "    true_labels: array of actual labels to be compared\n",
        "    \n",
        "    Result: dislay confusion matrix\n",
        "    '''\n",
        "    print('[INFO] Getting Confusion Matrix')\n",
        "    cm = confusion_matrix(true_labels[:,0], predictions[:,0])\n",
        "    \n",
        "\n",
        "    cm_plot_labels = ['real','fake']\n",
        "    plot_confusion_matrix(cm, cm_plot_labels, title='Confusion Matrix')\n",
        "    "
      ]
    },
    {
      "cell_type": "code",
      "execution_count": 15,
      "id": "1184c7ab",
      "metadata": {
        "id": "1184c7ab"
      },
      "outputs": [],
      "source": [
        "def main_vgg16():\n",
        "    '''\n",
        "    calling all functions\n",
        "    '''\n",
        "    \n",
        "    # getting labels to each data set\n",
        "    df_training = data_organization(train_path)\n",
        "    df_validation = data_organization(valid_path)\n",
        "    df_testing = data_organization(test_path)\n",
        "    \n",
        "    # getting train and validation data in numpy \n",
        "    train_data, train_labels = read_image_data(df_training['image_path'], df_training['labels'],224, 224)\n",
        "    val_data, val_labels = read_image_data(df_validation['image_path'], df_validation['labels'], 224, 224)\n",
        "    \n",
        "    # get the trained model\n",
        "    model = model_training(train_data=train_data, train_labels=train_labels, \n",
        "                           val_data=val_data, val_labels=val_labels)\n",
        "    \n",
        "    # get the results\n",
        "    predictions, true_labels = get_predictions(model = model, df_testing=df_testing, height = 224, width = 224)\n",
        "    \n",
        "    #\n",
        "    model_performance(predictions=predictions, true_labels=true_labels)"
      ]
    },
    {
      "cell_type": "code",
      "execution_count": 16,
      "id": "653c17be",
      "metadata": {
        "colab": {
          "base_uri": "https://localhost:8080/",
          "height": 1000
        },
        "id": "653c17be",
        "outputId": "5137b6a9-71b3-43ba-ddda-36b90e91cb69"
      },
      "outputs": [
        {
          "output_type": "stream",
          "name": "stdout",
          "text": [
            "Getting labels for images...\n",
            "DataFrame Complete....\n",
            "Getting labels for images...\n",
            "DataFrame Complete....\n",
            "Getting labels for images...\n",
            "DataFrame Complete....\n",
            "[INFO] Converting Data into Image form and encoding labels\n",
            "[INFO] Converting Data into Image form and encoding labels\n",
            "[INFO] importing VGG16 \n",
            "Downloading data from https://storage.googleapis.com/tensorflow/keras-applications/vgg16/vgg16_weights_tf_dim_ordering_tf_kernels.h5\n",
            "553467904/553467096 [==============================] - 15s 0us/step\n",
            "553476096/553467096 [==============================] - 15s 0us/step\n",
            "[INFO] compiling model...\n",
            "[INFO] training network for 16 epochs...\n"
          ]
        },
        {
          "output_type": "stream",
          "name": "stderr",
          "text": [
            "/usr/local/lib/python3.7/dist-packages/keras/optimizer_v2/adam.py:105: UserWarning: The `lr` argument is deprecated, use `learning_rate` instead.\n",
            "  super(Adam, self).__init__(name, **kwargs)\n"
          ]
        },
        {
          "output_type": "stream",
          "name": "stdout",
          "text": [
            "Epoch 1/16\n",
            "30/30 [==============================] - 19s 214ms/step - loss: 0.7209 - accuracy: 0.5933 - val_loss: 0.5498 - val_accuracy: 0.8100\n",
            "Epoch 2/16\n",
            "30/30 [==============================] - 4s 138ms/step - loss: 0.6005 - accuracy: 0.7300 - val_loss: 0.3889 - val_accuracy: 0.8900\n",
            "Epoch 3/16\n",
            "30/30 [==============================] - 4s 140ms/step - loss: 0.5357 - accuracy: 0.7567 - val_loss: 0.2893 - val_accuracy: 0.9300\n",
            "Epoch 4/16\n",
            "30/30 [==============================] - 4s 139ms/step - loss: 0.4982 - accuracy: 0.7667 - val_loss: 0.2758 - val_accuracy: 0.9000\n",
            "Epoch 5/16\n",
            "30/30 [==============================] - 4s 142ms/step - loss: 0.4537 - accuracy: 0.8167 - val_loss: 0.2604 - val_accuracy: 0.9100\n",
            "Epoch 6/16\n",
            "30/30 [==============================] - 4s 141ms/step - loss: 0.4041 - accuracy: 0.8400 - val_loss: 0.2357 - val_accuracy: 0.9100\n",
            "Epoch 7/16\n",
            "30/30 [==============================] - 4s 143ms/step - loss: 0.4043 - accuracy: 0.8467 - val_loss: 0.2045 - val_accuracy: 0.9500\n",
            "Epoch 8/16\n",
            "30/30 [==============================] - 4s 141ms/step - loss: 0.3882 - accuracy: 0.8200 - val_loss: 0.2408 - val_accuracy: 0.9100\n",
            "Epoch 9/16\n",
            "30/30 [==============================] - 4s 137ms/step - loss: 0.3733 - accuracy: 0.8467 - val_loss: 0.1957 - val_accuracy: 0.9500\n",
            "Epoch 10/16\n",
            "30/30 [==============================] - 4s 137ms/step - loss: 0.3688 - accuracy: 0.8600 - val_loss: 0.2310 - val_accuracy: 0.9000\n",
            "Epoch 11/16\n",
            "30/30 [==============================] - 4s 138ms/step - loss: 0.3485 - accuracy: 0.8900 - val_loss: 0.2081 - val_accuracy: 0.9300\n",
            "Epoch 12/16\n",
            "30/30 [==============================] - 4s 138ms/step - loss: 0.3496 - accuracy: 0.8500 - val_loss: 0.1848 - val_accuracy: 0.9500\n",
            "Epoch 13/16\n",
            "30/30 [==============================] - 4s 137ms/step - loss: 0.3429 - accuracy: 0.8567 - val_loss: 0.1905 - val_accuracy: 0.9500\n",
            "Epoch 14/16\n",
            "30/30 [==============================] - 4s 138ms/step - loss: 0.3113 - accuracy: 0.8967 - val_loss: 0.1621 - val_accuracy: 0.9500\n",
            "Epoch 15/16\n",
            "30/30 [==============================] - 4s 140ms/step - loss: 0.3262 - accuracy: 0.8833 - val_loss: 0.2012 - val_accuracy: 0.9100\n",
            "Epoch 16/16\n",
            "30/30 [==============================] - 4s 138ms/step - loss: 0.3102 - accuracy: 0.8900 - val_loss: 0.1622 - val_accuracy: 0.9500\n",
            "[INFO] Converting Data into Image form and encoding labels\n",
            "[INFO] Getting Predictions\n",
            "[INFO] Getting Confusion Matrix\n",
            "Confusion matrix, without normalization\n",
            "[[92  8]\n",
            " [ 2 27]]\n"
          ]
        },
        {
          "output_type": "display_data",
          "data": {
            "text/plain": [
              "<Figure size 432x288 with 2 Axes>"
            ],
            "image/png": "[encoded data removed]"
          },
          "metadata": {
            "needs_background": "light"
          }
        }
      ],
      "source": [
        "main_vgg16()"
      ]
    },
    {
      "cell_type": "markdown",
      "source": [
        "### Mobile Net"
      ],
      "metadata": {
        "id": "56mbBEMbeZMQ"
      },
      "id": "56mbBEMbeZMQ"
    },
    {
      "cell_type": "code",
      "source": [
        "def model_training_mobile_net(train_data, train_labels, val_data, val_labels):\n",
        "    '''\n",
        "    The function is involved with \n",
        "        - data augmentation \n",
        "        - sequential model initialization\n",
        "        - using mobile net model layers as base layers for the new model.\n",
        "        - compiling the model\n",
        "        - training the model\n",
        "    \n",
        "    returns a trained model file\n",
        "    '''\n",
        "    # construct the training image generator for data augmentation\n",
        "    aug = ImageDataGenerator(rotation_range=20, zoom_range=0.15,\n",
        "        width_shift_range=0.2, height_shift_range=0.2, shear_range=0.15,\n",
        "        horizontal_flip=True, fill_mode=\"nearest\")\n",
        "   \n",
        "    print(\"[INFO] importing mobile net \")\n",
        "    mobile_net_model = keras.applications.mobilenet.MobileNet()\n",
        "    \n",
        "    # getting a sequential model and freezing the previous\n",
        "    model = Sequential()\n",
        "    for layer in mobile_net_model.layers[:-1]:\n",
        "        model.add(layer)\n",
        "    \n",
        "    # After poping the last layer, freeze the previous layers and adding a new dense output layer\n",
        "    for layer in model.layers:\n",
        "        layer.trainable = False\n",
        "    model.add(Dense(2, activation='softmax'))\n",
        "    \n",
        "    # initialize the optimizer and model\n",
        "    print(\"[INFO] compiling model...\")\n",
        "    opt = Adam(lr=INIT_LR)\n",
        "    \n",
        "    model.compile(loss=\"binary_crossentropy\", optimizer=opt, metrics=[\"accuracy\"])\n",
        "    \n",
        "    # train the network\n",
        "    print(\"[INFO] training network for {} epochs...\".format(EPOCHS))\n",
        "    \n",
        "    model.fit(x=aug.flow(train_data, train_labels, batch_size=BS),\n",
        "        validation_data=(val_data, val_labels), validation_steps=5, steps_per_epoch=len(train_data) / BS,\n",
        "        epochs=20)\n",
        "    \n",
        "    return model"
      ],
      "metadata": {
        "id": "6d3V3Dopt524"
      },
      "id": "6d3V3Dopt524",
      "execution_count": 17,
      "outputs": []
    },
    {
      "cell_type": "code",
      "source": [
        "def main_mobile_net():\n",
        "  '''\n",
        "  calling all functions\n",
        "  '''\n",
        "    \n",
        "  # getting labels to each data set\n",
        "  df_training = data_organization(train_path)\n",
        "  df_validation = data_organization(valid_path)\n",
        "  df_testing = data_organization(test_path)\n",
        "    \n",
        "  # getting train and validation data in numpy \n",
        "  train_data, train_labels = read_image_data(df_training['image_path'], df_training['labels'],224,224)\n",
        "  val_data, val_labels = read_image_data(df_validation['image_path'], df_validation['labels'],224,224)\n",
        "    \n",
        "  # get the trained model\n",
        "  model = model_training_mobile_net(train_data=train_data, train_labels=train_labels, \n",
        "                           val_data=val_data, val_labels=val_labels)\n",
        "    \n",
        "  # get the results\n",
        "  predictions, true_labels = get_predictions(model = model, df_testing=df_testing, height = 224, width = 224)\n",
        "    \n",
        "  # get confusion matrix\n",
        "  model_performance(predictions=predictions, true_labels=true_labels)\n"
      ],
      "metadata": {
        "id": "jfj4pPcFedmP"
      },
      "id": "jfj4pPcFedmP",
      "execution_count": 15,
      "outputs": []
    },
    {
      "cell_type": "code",
      "source": [
        "main_mobile_net()"
      ],
      "metadata": {
        "colab": {
          "base_uri": "https://localhost:8080/",
          "height": 1000
        },
        "id": "kJsdM9dQepFx",
        "outputId": "1534640d-c82f-46f8-d964-88f762a326d2"
      },
      "id": "kJsdM9dQepFx",
      "execution_count": 16,
      "outputs": [
        {
          "output_type": "stream",
          "name": "stdout",
          "text": [
            "Getting labels for images...\n",
            "DataFrame Complete....\n",
            "Getting labels for images...\n",
            "DataFrame Complete....\n",
            "Getting labels for images...\n",
            "DataFrame Complete....\n",
            "[INFO] Converting Data into Image form and encoding labels\n",
            "[INFO] Converting Data into Image form and encoding labels\n",
            "[INFO] importing mobile net \n",
            "Downloading data from https://storage.googleapis.com/tensorflow/keras-applications/mobilenet/mobilenet_1_0_224_tf.h5\n",
            "17227776/17225924 [==============================] - 0s 0us/step\n",
            "17235968/17225924 [==============================] - 0s 0us/step\n",
            "[INFO] compiling model...\n",
            "[INFO] training network for 16 epochs...\n",
            "Epoch 1/20\n"
          ]
        },
        {
          "output_type": "stream",
          "name": "stderr",
          "text": [
            "/usr/local/lib/python3.7/dist-packages/keras/optimizer_v2/adam.py:105: UserWarning: The `lr` argument is deprecated, use `learning_rate` instead.\n",
            "  super(Adam, self).__init__(name, **kwargs)\n"
          ]
        },
        {
          "output_type": "stream",
          "name": "stdout",
          "text": [
            "30/30 [==============================] - 6s 137ms/step - loss: 0.9908 - accuracy: 0.5333 - val_loss: 0.7823 - val_accuracy: 0.6500\n",
            "Epoch 2/20\n",
            "30/30 [==============================] - 3s 111ms/step - loss: 0.8532 - accuracy: 0.5767 - val_loss: 0.7129 - val_accuracy: 0.6700\n",
            "Epoch 3/20\n",
            "30/30 [==============================] - 3s 113ms/step - loss: 0.9027 - accuracy: 0.5567 - val_loss: 0.6877 - val_accuracy: 0.6800\n",
            "Epoch 4/20\n",
            "30/30 [==============================] - 3s 111ms/step - loss: 0.8512 - accuracy: 0.5600 - val_loss: 0.6505 - val_accuracy: 0.6900\n",
            "Epoch 5/20\n",
            "30/30 [==============================] - 4s 117ms/step - loss: 0.8073 - accuracy: 0.5933 - val_loss: 0.6230 - val_accuracy: 0.7200\n",
            "Epoch 6/20\n",
            "30/30 [==============================] - 3s 112ms/step - loss: 0.8207 - accuracy: 0.5367 - val_loss: 0.6101 - val_accuracy: 0.7300\n",
            "Epoch 7/20\n",
            "30/30 [==============================] - 3s 111ms/step - loss: 0.7748 - accuracy: 0.6033 - val_loss: 0.5971 - val_accuracy: 0.7300\n",
            "Epoch 8/20\n",
            "30/30 [==============================] - 3s 111ms/step - loss: 0.7256 - accuracy: 0.6333 - val_loss: 0.5715 - val_accuracy: 0.7500\n",
            "Epoch 9/20\n",
            "30/30 [==============================] - 3s 113ms/step - loss: 0.7302 - accuracy: 0.6533 - val_loss: 0.5878 - val_accuracy: 0.7400\n",
            "Epoch 10/20\n",
            "30/30 [==============================] - 3s 113ms/step - loss: 0.7394 - accuracy: 0.6200 - val_loss: 0.5592 - val_accuracy: 0.7500\n",
            "Epoch 11/20\n",
            "30/30 [==============================] - 3s 113ms/step - loss: 0.7400 - accuracy: 0.6100 - val_loss: 0.5359 - val_accuracy: 0.7500\n",
            "Epoch 12/20\n",
            "30/30 [==============================] - 3s 112ms/step - loss: 0.7336 - accuracy: 0.6300 - val_loss: 0.5176 - val_accuracy: 0.8100\n",
            "Epoch 13/20\n",
            "30/30 [==============================] - 3s 112ms/step - loss: 0.7374 - accuracy: 0.6133 - val_loss: 0.5335 - val_accuracy: 0.7700\n",
            "Epoch 14/20\n",
            "30/30 [==============================] - 3s 112ms/step - loss: 0.7122 - accuracy: 0.6467 - val_loss: 0.4991 - val_accuracy: 0.8200\n",
            "Epoch 15/20\n",
            "30/30 [==============================] - 3s 111ms/step - loss: 0.6802 - accuracy: 0.6300 - val_loss: 0.5172 - val_accuracy: 0.7900\n",
            "Epoch 16/20\n",
            "30/30 [==============================] - 5s 185ms/step - loss: 0.6597 - accuracy: 0.6633 - val_loss: 0.4994 - val_accuracy: 0.7900\n",
            "Epoch 17/20\n",
            "30/30 [==============================] - 3s 111ms/step - loss: 0.6744 - accuracy: 0.6400 - val_loss: 0.4861 - val_accuracy: 0.8200\n",
            "Epoch 18/20\n",
            "30/30 [==============================] - 3s 113ms/step - loss: 0.6567 - accuracy: 0.6800 - val_loss: 0.4934 - val_accuracy: 0.8100\n",
            "Epoch 19/20\n",
            "30/30 [==============================] - 3s 111ms/step - loss: 0.6809 - accuracy: 0.6667 - val_loss: 0.4841 - val_accuracy: 0.8200\n",
            "Epoch 20/20\n",
            "30/30 [==============================] - 4s 117ms/step - loss: 0.6428 - accuracy: 0.6867 - val_loss: 0.4610 - val_accuracy: 0.8000\n",
            "[INFO] Converting Data into Image form and encoding labels\n",
            "[INFO] Getting Predictions\n",
            "[INFO] Getting Confusion Matrix\n",
            "Confusion matrix, without normalization\n",
            "[[82 18]\n",
            " [ 9 20]]\n"
          ]
        },
        {
          "output_type": "display_data",
          "data": {
            "text/plain": [
              "<Figure size 432x288 with 2 Axes>"
            ],
            "image/png": "[encoded data removed]"
          },
          "metadata": {
            "needs_background": "light"
          }
        }
      ]
    },
    {
      "cell_type": "markdown",
      "source": [
        "# Multi Model Training\n",
        "\n"
      ],
      "metadata": {
        "id": "K1BsO2-8i-a-"
      },
      "id": "K1BsO2-8i-a-"
    },
    {
      "cell_type": "markdown",
      "source": [
        "Models to be trained \n",
        "\n",
        "\n",
        "*   EfficientNetV2L - Size: 480x480\n",
        "*   EfficientNetB7 - Size: 600x600\n",
        "*   NASNetLarge - Size: 331x331\n",
        "*   InceptionResNetV2 - Size: 299x299\n",
        "\n"
      ],
      "metadata": {
        "id": "g5syfZ9RjJ0_"
      },
      "id": "g5syfZ9RjJ0_"
    },
    {
      "cell_type": "code",
      "source": [
        "eff_netv2l = keras.applications.efficientnet_v2.EfficientNetV2L(include_top=False)\n",
        "eff_netb7 = keras.applications.efficientnet.EfficientNetB7(include_top = False)\n",
        "nas_net_large = keras.applications.nasnet.NASNetLarge(include_top=True)\n",
        "inc_resnetv2 = keras.applications.inception_resnet_v2.InceptionResNetV2(include_top=True)"
      ],
      "metadata": {
        "id": "n7vjzp84ej63"
      },
      "id": "n7vjzp84ej63",
      "execution_count": 20,
      "outputs": []
    },
    {
      "cell_type": "code",
      "source": [
        "print(eff_netv2l.name)\n",
        "print(eff_netb7.name)\n",
        "print(nas_net_large.name)\n",
        "print(inc_resnetv2.name)"
      ],
      "metadata": {
        "colab": {
          "base_uri": "https://localhost:8080/"
        },
        "id": "w5b3A953c-ZE",
        "outputId": "d90162b4-27d8-4703-b50e-6d68f0f3d856"
      },
      "id": "w5b3A953c-ZE",
      "execution_count": 19,
      "outputs": [
        {
          "output_type": "stream",
          "name": "stdout",
          "text": [
            "efficientnetv2-l\n",
            "efficientnetb7\n",
            "NASNet\n",
            "inception_resnet_v2\n"
          ]
        }
      ]
    },
    {
      "cell_type": "code",
      "source": [
        "def build_model(num_classes, height, width, model_name):\n",
        "    img_augmentation = Sequential(\n",
        "    [\n",
        "        layers.RandomRotation(factor=0.15),\n",
        "        layers.RandomTranslation(height_factor=0.1, width_factor=0.1),\n",
        "        layers.RandomFlip(),\n",
        "        layers.RandomContrast(factor=0.1),\n",
        "    ],\n",
        "    name=\"img_augmentation\",)\n",
        "\n",
        "    inputs = layers.Input(shape=(height, width, 3))\n",
        "    x = img_augmentation(inputs)\n",
        "\n",
        "    # importing the requires model\n",
        "    if model_name == \"effnet_v2l\":\n",
        "      model = keras.applications.efficientnet_v2.EfficientNetV2L(include_top=False, input_tensor=x, weights=\"imagenet\")\n",
        "    elif model_name == \"effnet_b2\":\n",
        "      model = keras.applications.efficientnet.EfficientNetB7(include_top=False, input_tensor=x, weights=\"imagenet\")\n",
        "    elif model_name == \"nas_net\":\n",
        "      model = keras.applications.nasnet.NASNetLarge(include_top=False, input_tensor=x, weights=\"imagenet\")\n",
        "    elif model_name == \"inc_resnet_v2\":\n",
        "      model = keras.applications.inception_resnet_v2.InceptionResNetV2(include_top=False, input_tensor=x, weights=\"imagenet\")\n",
        "\n",
        "    # Freeze the pretrained weights\n",
        "    model.trainable = False\n",
        "\n",
        "    # Rebuild top\n",
        "    x = layers.GlobalAveragePooling2D(name=\"avg_pool\")(model.output)\n",
        "    x = layers.BatchNormalization()(x)\n",
        "\n",
        "    top_dropout_rate = 0.2\n",
        "    x = layers.Dropout(top_dropout_rate, name=\"top_dropout\")(x)\n",
        "    outputs = layers.Dense(2, activation=\"softmax\", name=\"pred\")(x)\n",
        "\n",
        "    # Compile\n",
        "    model = tf.keras.Model(inputs, outputs, name=model_name)\n",
        "    optimizer = tf.keras.optimizers.Adam(learning_rate=1e-2)\n",
        "    model.compile(\n",
        "        optimizer=optimizer, loss=\"categorical_crossentropy\", metrics=[\"accuracy\"]\n",
        "    )\n",
        "    return model"
      ],
      "metadata": {
        "id": "bEevIqBEi_FU"
      },
      "id": "bEevIqBEi_FU",
      "execution_count": 35,
      "outputs": []
    },
    {
      "cell_type": "code",
      "source": [
        "def train_model_get_predictions():\n",
        "  df_training = data_organization(train_path)\n",
        "  df_validation = data_organization(valid_path)\n",
        "  df_testing = data_organization(test_path)\n",
        "\n",
        "  all_models = ['effnet_v2l', 'effnet_b2', 'nas_net', 'inc_resnet_v2']\n",
        "\n",
        "  train_data, train_labels = read_image_data(df_training['image_path'], df_training['labels'],224, 224)\n",
        "  val_data, val_labels = read_image_data(df_validation['image_path'], df_validation['labels'], 224, 224)\n",
        "\n",
        "  all_predictions = {}\n",
        "  for model_name in all_models:\n",
        "    model = build_model(num_classes = 2, height=224, width=224, model_name=model_name)\n",
        "    print(\"[INFO] Training model \", model_name)\n",
        "    model.fit(x=train_data, y=train_labels, validation_data=(val_data, val_labels), verbose=2, batch_size = BS,  \n",
        "          validation_steps=5, steps_per_epoch=len(train_data) / BS, epochs=20)\n",
        "\n",
        "    # get predictions\n",
        "    predictions, true_labels = get_predictions(model = model, df_testing=df_testing, height = 224, width = 224)\n",
        "    all_predictions[model_name] = {\"predictions\": predictions,\n",
        "                                   \"true_labels\": true_labels}\n",
        "  return all_predictions\n"
      ],
      "metadata": {
        "id": "VbpFsEMPek50"
      },
      "id": "VbpFsEMPek50",
      "execution_count": 42,
      "outputs": []
    },
    {
      "cell_type": "code",
      "source": [
        "all_results = train_model_get_predictions()"
      ],
      "metadata": {
        "colab": {
          "base_uri": "https://localhost:8080/"
        },
        "id": "D8C8ExjIhl0O",
        "outputId": "2e0a5b2d-89f3-4fad-fe40-cb24e22bd055"
      },
      "id": "D8C8ExjIhl0O",
      "execution_count": 43,
      "outputs": [
        {
          "output_type": "stream",
          "name": "stdout",
          "text": [
            "Getting labels for images...\n",
            "DataFrame Complete....\n",
            "Getting labels for images...\n",
            "DataFrame Complete....\n",
            "Getting labels for images...\n",
            "DataFrame Complete....\n",
            "[INFO] Converting Data into Image form and encoding labels\n",
            "[INFO] Converting Data into Image form and encoding labels\n",
            "[INFO] Training model  effnet_v2l\n",
            "Epoch 1/20\n",
            "30/30 - 34s - loss: 1.1489 - accuracy: 0.6967 - val_loss: 0.0585 - val_accuracy: 1.0000 - 34s/epoch - 1s/step\n",
            "Epoch 2/20\n",
            "30/30 - 6s - loss: 1.1514 - accuracy: 0.7800 - val_loss: 0.0855 - val_accuracy: 0.9600 - 6s/epoch - 214ms/step\n",
            "Epoch 3/20\n",
            "30/30 - 6s - loss: 1.1985 - accuracy: 0.7867 - val_loss: 0.1173 - val_accuracy: 0.9600 - 6s/epoch - 199ms/step\n",
            "Epoch 4/20\n",
            "30/30 - 6s - loss: 1.1680 - accuracy: 0.7800 - val_loss: 0.2155 - val_accuracy: 0.9000 - 6s/epoch - 197ms/step\n",
            "Epoch 5/20\n",
            "30/30 - 5s - loss: 0.9201 - accuracy: 0.8333 - val_loss: 0.3554 - val_accuracy: 0.8800 - 5s/epoch - 179ms/step\n",
            "Epoch 6/20\n",
            "30/30 - 5s - loss: 0.9118 - accuracy: 0.8167 - val_loss: 0.3755 - val_accuracy: 0.9200 - 5s/epoch - 178ms/step\n",
            "Epoch 7/20\n",
            "30/30 - 6s - loss: 1.3566 - accuracy: 0.7833 - val_loss: 0.1521 - val_accuracy: 0.9600 - 6s/epoch - 194ms/step\n",
            "Epoch 8/20\n",
            "30/30 - 6s - loss: 1.0767 - accuracy: 0.8233 - val_loss: 0.1886 - val_accuracy: 0.9200 - 6s/epoch - 194ms/step\n",
            "Epoch 9/20\n",
            "30/30 - 5s - loss: 0.9551 - accuracy: 0.8267 - val_loss: 0.3151 - val_accuracy: 0.9400 - 5s/epoch - 176ms/step\n",
            "Epoch 10/20\n",
            "30/30 - 6s - loss: 1.0999 - accuracy: 0.8433 - val_loss: 0.3401 - val_accuracy: 0.9200 - 6s/epoch - 194ms/step\n",
            "Epoch 11/20\n",
            "30/30 - 6s - loss: 1.2896 - accuracy: 0.8367 - val_loss: 0.0173 - val_accuracy: 0.9800 - 6s/epoch - 193ms/step\n",
            "Epoch 12/20\n",
            "30/30 - 5s - loss: 1.1104 - accuracy: 0.8200 - val_loss: 0.3794 - val_accuracy: 0.9200 - 5s/epoch - 177ms/step\n",
            "Epoch 13/20\n",
            "30/30 - 5s - loss: 0.8894 - accuracy: 0.8400 - val_loss: 0.4169 - val_accuracy: 0.9200 - 5s/epoch - 177ms/step\n",
            "Epoch 14/20\n",
            "30/30 - 6s - loss: 0.7850 - accuracy: 0.8800 - val_loss: 0.5019 - val_accuracy: 0.9200 - 6s/epoch - 196ms/step\n",
            "Epoch 15/20\n",
            "30/30 - 5s - loss: 0.8031 - accuracy: 0.8633 - val_loss: 0.5073 - val_accuracy: 0.9000 - 5s/epoch - 179ms/step\n",
            "Epoch 16/20\n",
            "30/30 - 6s - loss: 1.0867 - accuracy: 0.8533 - val_loss: 0.1273 - val_accuracy: 0.9400 - 6s/epoch - 196ms/step\n",
            "Epoch 17/20\n",
            "30/30 - 6s - loss: 0.9052 - accuracy: 0.8533 - val_loss: 0.3648 - val_accuracy: 0.9600 - 6s/epoch - 201ms/step\n",
            "Epoch 18/20\n",
            "30/30 - 6s - loss: 1.2006 - accuracy: 0.8267 - val_loss: 0.1636 - val_accuracy: 0.9800 - 6s/epoch - 197ms/step\n",
            "Epoch 19/20\n",
            "30/30 - 6s - loss: 0.7328 - accuracy: 0.8200 - val_loss: 0.1155 - val_accuracy: 0.9800 - 6s/epoch - 196ms/step\n",
            "Epoch 20/20\n",
            "30/30 - 6s - loss: 1.0268 - accuracy: 0.8500 - val_loss: 0.2919 - val_accuracy: 0.9400 - 6s/epoch - 196ms/step\n",
            "[INFO] Converting Data into Image form and encoding labels\n",
            "[INFO] Getting Predictions\n",
            "[INFO] Training model  effnet_b2\n",
            "Epoch 1/20\n",
            "30/30 - 26s - loss: 2.1232 - accuracy: 0.6833 - val_loss: 0.0034 - val_accuracy: 1.0000 - 26s/epoch - 869ms/step\n",
            "Epoch 2/20\n",
            "30/30 - 5s - loss: 2.0778 - accuracy: 0.7833 - val_loss: 0.0040 - val_accuracy: 1.0000 - 5s/epoch - 158ms/step\n",
            "Epoch 3/20\n",
            "30/30 - 5s - loss: 1.7709 - accuracy: 0.8100 - val_loss: 0.2412 - val_accuracy: 0.9200 - 5s/epoch - 180ms/step\n",
            "Epoch 4/20\n",
            "30/30 - 5s - loss: 1.4202 - accuracy: 0.8167 - val_loss: 0.0855 - val_accuracy: 0.9800 - 5s/epoch - 161ms/step\n",
            "Epoch 5/20\n",
            "30/30 - 5s - loss: 2.3217 - accuracy: 0.7867 - val_loss: 0.0386 - val_accuracy: 0.9800 - 5s/epoch - 161ms/step\n",
            "Epoch 6/20\n",
            "30/30 - 5s - loss: 1.5512 - accuracy: 0.8500 - val_loss: 0.1879 - val_accuracy: 0.9600 - 5s/epoch - 161ms/step\n",
            "Epoch 7/20\n",
            "30/30 - 5s - loss: 1.5638 - accuracy: 0.8100 - val_loss: 0.2216 - val_accuracy: 0.9000 - 5s/epoch - 159ms/step\n",
            "Epoch 8/20\n",
            "30/30 - 5s - loss: 1.1902 - accuracy: 0.8967 - val_loss: 0.1546 - val_accuracy: 0.9800 - 5s/epoch - 178ms/step\n",
            "Epoch 9/20\n",
            "30/30 - 5s - loss: 2.1470 - accuracy: 0.8233 - val_loss: 0.0416 - val_accuracy: 0.9800 - 5s/epoch - 177ms/step\n",
            "Epoch 10/20\n",
            "30/30 - 5s - loss: 1.7114 - accuracy: 0.8533 - val_loss: 0.0128 - val_accuracy: 1.0000 - 5s/epoch - 176ms/step\n",
            "Epoch 11/20\n",
            "30/30 - 5s - loss: 2.0101 - accuracy: 0.8067 - val_loss: 0.0412 - val_accuracy: 0.9800 - 5s/epoch - 176ms/step\n",
            "Epoch 12/20\n",
            "30/30 - 5s - loss: 2.3185 - accuracy: 0.8200 - val_loss: 0.1871 - val_accuracy: 0.9800 - 5s/epoch - 176ms/step\n",
            "Epoch 13/20\n",
            "30/30 - 5s - loss: 1.6202 - accuracy: 0.8233 - val_loss: 5.4120e-07 - val_accuracy: 1.0000 - 5s/epoch - 155ms/step\n",
            "Epoch 14/20\n",
            "30/30 - 5s - loss: 2.0386 - accuracy: 0.8200 - val_loss: 0.2390 - val_accuracy: 0.9600 - 5s/epoch - 155ms/step\n",
            "Epoch 15/20\n",
            "30/30 - 5s - loss: 1.0076 - accuracy: 0.9033 - val_loss: 0.2295 - val_accuracy: 0.9600 - 5s/epoch - 176ms/step\n",
            "Epoch 16/20\n",
            "30/30 - 5s - loss: 2.3832 - accuracy: 0.7933 - val_loss: 0.2497 - val_accuracy: 0.9800 - 5s/epoch - 177ms/step\n",
            "Epoch 17/20\n",
            "30/30 - 5s - loss: 2.7947 - accuracy: 0.8000 - val_loss: 0.0000e+00 - val_accuracy: 1.0000 - 5s/epoch - 157ms/step\n",
            "Epoch 18/20\n",
            "30/30 - 5s - loss: 1.9387 - accuracy: 0.8767 - val_loss: 0.1792 - val_accuracy: 0.9600 - 5s/epoch - 161ms/step\n",
            "Epoch 19/20\n",
            "30/30 - 5s - loss: 2.3127 - accuracy: 0.8267 - val_loss: 0.4558 - val_accuracy: 0.9800 - 5s/epoch - 157ms/step\n",
            "Epoch 20/20\n",
            "30/30 - 5s - loss: 2.1593 - accuracy: 0.8467 - val_loss: 0.5761 - val_accuracy: 0.9800 - 5s/epoch - 158ms/step\n",
            "[INFO] Converting Data into Image form and encoding labels\n",
            "[INFO] Getting Predictions\n",
            "WARNING:tensorflow:5 out of the last 5 calls to <function Model.make_predict_function.<locals>.predict_function at 0x7f378be814d0> triggered tf.function retracing. Tracing is expensive and the excessive number of tracings could be due to (1) creating @tf.function repeatedly in a loop, (2) passing tensors with different shapes, (3) passing Python objects instead of tensors. For (1), please define your @tf.function outside of the loop. For (2), @tf.function has experimental_relax_shapes=True option that relaxes argument shapes that can avoid unnecessary retracing. For (3), please refer to https://www.tensorflow.org/guide/function#controlling_retracing and https://www.tensorflow.org/api_docs/python/tf/function for  more details.\n",
            "[INFO] Training model  nas_net\n",
            "Epoch 1/20\n",
            "30/30 - 30s - loss: 4.0460 - accuracy: 0.6333 - val_loss: 3.4560e-05 - val_accuracy: 1.0000 - 30s/epoch - 985ms/step\n",
            "Epoch 2/20\n",
            "30/30 - 5s - loss: 3.6846 - accuracy: 0.6067 - val_loss: 0.1286 - val_accuracy: 0.9600 - 5s/epoch - 169ms/step\n",
            "Epoch 3/20\n",
            "30/30 - 6s - loss: 3.5379 - accuracy: 0.6433 - val_loss: 1.5473e-06 - val_accuracy: 1.0000 - 6s/epoch - 188ms/step\n",
            "Epoch 4/20\n",
            "30/30 - 5s - loss: 2.9690 - accuracy: 0.6733 - val_loss: 0.0749 - val_accuracy: 0.9800 - 5s/epoch - 172ms/step\n",
            "Epoch 5/20\n",
            "30/30 - 5s - loss: 3.6914 - accuracy: 0.6433 - val_loss: 0.0038 - val_accuracy: 1.0000 - 5s/epoch - 173ms/step\n",
            "Epoch 6/20\n",
            "30/30 - 5s - loss: 4.4104 - accuracy: 0.6433 - val_loss: 0.8354 - val_accuracy: 0.8000 - 5s/epoch - 170ms/step\n",
            "Epoch 7/20\n",
            "30/30 - 6s - loss: 3.8166 - accuracy: 0.6867 - val_loss: 0.2151 - val_accuracy: 0.9600 - 6s/epoch - 187ms/step\n",
            "Epoch 8/20\n",
            "30/30 - 5s - loss: 3.6614 - accuracy: 0.6700 - val_loss: 1.3553 - val_accuracy: 0.8400 - 5s/epoch - 167ms/step\n",
            "Epoch 9/20\n",
            "30/30 - 5s - loss: 3.8179 - accuracy: 0.7067 - val_loss: 0.4533 - val_accuracy: 0.8800 - 5s/epoch - 166ms/step\n",
            "Epoch 10/20\n",
            "30/30 - 5s - loss: 3.9247 - accuracy: 0.6767 - val_loss: 4.1979 - val_accuracy: 0.4200 - 5s/epoch - 166ms/step\n",
            "Epoch 11/20\n",
            "30/30 - 6s - loss: 3.6228 - accuracy: 0.6633 - val_loss: 3.8993 - val_accuracy: 0.5800 - 6s/epoch - 184ms/step\n",
            "Epoch 12/20\n",
            "30/30 - 6s - loss: 3.3530 - accuracy: 0.6900 - val_loss: 0.4642 - val_accuracy: 0.9000 - 6s/epoch - 184ms/step\n",
            "Epoch 13/20\n",
            "30/30 - 6s - loss: 3.0880 - accuracy: 0.6567 - val_loss: 0.5541 - val_accuracy: 0.8200 - 6s/epoch - 184ms/step\n",
            "Epoch 14/20\n",
            "30/30 - 5s - loss: 3.2556 - accuracy: 0.6567 - val_loss: 0.5832 - val_accuracy: 0.9000 - 5s/epoch - 166ms/step\n",
            "Epoch 15/20\n",
            "30/30 - 5s - loss: 3.0525 - accuracy: 0.6733 - val_loss: 0.7589 - val_accuracy: 0.8200 - 5s/epoch - 166ms/step\n",
            "Epoch 16/20\n",
            "30/30 - 5s - loss: 3.2371 - accuracy: 0.6600 - val_loss: 0.6646 - val_accuracy: 0.9000 - 5s/epoch - 166ms/step\n",
            "Epoch 17/20\n",
            "30/30 - 6s - loss: 2.9558 - accuracy: 0.7033 - val_loss: 1.6047 - val_accuracy: 0.7400 - 6s/epoch - 186ms/step\n",
            "Epoch 18/20\n",
            "30/30 - 6s - loss: 2.7731 - accuracy: 0.6900 - val_loss: 0.4769 - val_accuracy: 0.9200 - 6s/epoch - 187ms/step\n",
            "Epoch 19/20\n",
            "30/30 - 6s - loss: 3.2918 - accuracy: 0.6867 - val_loss: 1.6689 - val_accuracy: 0.7400 - 6s/epoch - 187ms/step\n",
            "Epoch 20/20\n",
            "30/30 - 6s - loss: 2.9820 - accuracy: 0.6767 - val_loss: 0.5781 - val_accuracy: 0.9200 - 6s/epoch - 186ms/step\n",
            "[INFO] Converting Data into Image form and encoding labels\n",
            "[INFO] Getting Predictions\n",
            "WARNING:tensorflow:6 out of the last 6 calls to <function Model.make_predict_function.<locals>.predict_function at 0x7f378b9ec560> triggered tf.function retracing. Tracing is expensive and the excessive number of tracings could be due to (1) creating @tf.function repeatedly in a loop, (2) passing tensors with different shapes, (3) passing Python objects instead of tensors. For (1), please define your @tf.function outside of the loop. For (2), @tf.function has experimental_relax_shapes=True option that relaxes argument shapes that can avoid unnecessary retracing. For (3), please refer to https://www.tensorflow.org/guide/function#controlling_retracing and https://www.tensorflow.org/api_docs/python/tf/function for  more details.\n",
            "[INFO] Training model  inc_resnet_v2\n",
            "Epoch 1/20\n",
            "30/30 - 16s - loss: 3.5887 - accuracy: 0.5500 - val_loss: 27.2871 - val_accuracy: 0.0000e+00 - 16s/epoch - 546ms/step\n",
            "Epoch 2/20\n",
            "30/30 - 3s - loss: 1.7886 - accuracy: 0.6000 - val_loss: 0.0064 - val_accuracy: 1.0000 - 3s/epoch - 92ms/step\n",
            "Epoch 3/20\n",
            "30/30 - 3s - loss: 1.9112 - accuracy: 0.5400 - val_loss: 0.8612 - val_accuracy: 0.6800 - 3s/epoch - 92ms/step\n",
            "Epoch 4/20\n",
            "30/30 - 3s - loss: 1.5089 - accuracy: 0.5867 - val_loss: 6.6327 - val_accuracy: 0.1000 - 3s/epoch - 92ms/step\n",
            "Epoch 5/20\n",
            "30/30 - 3s - loss: 1.7165 - accuracy: 0.6033 - val_loss: 0.7905 - val_accuracy: 0.8000 - 3s/epoch - 101ms/step\n",
            "Epoch 6/20\n",
            "30/30 - 3s - loss: 1.4469 - accuracy: 0.5867 - val_loss: 0.3693 - val_accuracy: 0.8600 - 3s/epoch - 93ms/step\n",
            "Epoch 7/20\n",
            "30/30 - 3s - loss: 1.5562 - accuracy: 0.5700 - val_loss: 1.1362 - val_accuracy: 0.4600 - 3s/epoch - 101ms/step\n",
            "Epoch 8/20\n",
            "30/30 - 3s - loss: 1.7371 - accuracy: 0.6133 - val_loss: 0.1632 - val_accuracy: 0.9600 - 3s/epoch - 101ms/step\n",
            "Epoch 9/20\n",
            "30/30 - 3s - loss: 1.3502 - accuracy: 0.6000 - val_loss: 0.4154 - val_accuracy: 0.8000 - 3s/epoch - 92ms/step\n",
            "Epoch 10/20\n",
            "30/30 - 3s - loss: 1.9966 - accuracy: 0.5533 - val_loss: 4.8135 - val_accuracy: 0.5400 - 3s/epoch - 91ms/step\n",
            "Epoch 11/20\n",
            "30/30 - 3s - loss: 5.0127 - accuracy: 0.5467 - val_loss: 2.1539 - val_accuracy: 0.6400 - 3s/epoch - 100ms/step\n",
            "Epoch 12/20\n",
            "30/30 - 3s - loss: 1.9318 - accuracy: 0.6467 - val_loss: 2.0157 - val_accuracy: 0.4400 - 3s/epoch - 90ms/step\n",
            "Epoch 13/20\n",
            "30/30 - 3s - loss: 1.6364 - accuracy: 0.5833 - val_loss: 1.2540 - val_accuracy: 0.4000 - 3s/epoch - 99ms/step\n",
            "Epoch 14/20\n",
            "30/30 - 3s - loss: 1.1730 - accuracy: 0.5800 - val_loss: 1.0284 - val_accuracy: 0.7600 - 3s/epoch - 98ms/step\n",
            "Epoch 15/20\n",
            "30/30 - 3s - loss: 1.1857 - accuracy: 0.5800 - val_loss: 0.8903 - val_accuracy: 0.6600 - 3s/epoch - 99ms/step\n",
            "Epoch 16/20\n",
            "30/30 - 3s - loss: 1.2110 - accuracy: 0.6200 - val_loss: 2.4609 - val_accuracy: 0.4000 - 3s/epoch - 90ms/step\n",
            "Epoch 17/20\n",
            "30/30 - 3s - loss: 1.7068 - accuracy: 0.5267 - val_loss: 1.1704 - val_accuracy: 0.7200 - 3s/epoch - 90ms/step\n",
            "Epoch 18/20\n",
            "30/30 - 3s - loss: 1.2392 - accuracy: 0.5967 - val_loss: 1.0749 - val_accuracy: 0.7600 - 3s/epoch - 90ms/step\n",
            "Epoch 19/20\n",
            "30/30 - 3s - loss: 0.9609 - accuracy: 0.6500 - val_loss: 0.9050 - val_accuracy: 0.6000 - 3s/epoch - 99ms/step\n",
            "Epoch 20/20\n",
            "30/30 - 3s - loss: 1.3904 - accuracy: 0.6000 - val_loss: 0.2333 - val_accuracy: 0.9200 - 3s/epoch - 98ms/step\n",
            "[INFO] Converting Data into Image form and encoding labels\n",
            "[INFO] Getting Predictions\n"
          ]
        }
      ]
    },
    {
      "cell_type": "code",
      "source": [
        "# get confusion matrix\n",
        "print(\"Effnet_v2l\")\n",
        "model_performance(predictions=all_results['effnet_v2l']['predictions'], true_labels = all_results['effnet_v2l']['true_labels'])"
      ],
      "metadata": {
        "colab": {
          "base_uri": "https://localhost:8080/",
          "height": 398
        },
        "id": "M8uetitRk9id",
        "outputId": "0151ce82-af86-4517-f9e2-80a29618c335"
      },
      "id": "M8uetitRk9id",
      "execution_count": 46,
      "outputs": [
        {
          "output_type": "stream",
          "name": "stdout",
          "text": [
            "Effnet_v2l\n",
            "[INFO] Getting Confusion Matrix\n",
            "Confusion matrix, without normalization\n",
            "[[98  2]\n",
            " [ 0 29]]\n"
          ]
        },
        {
          "output_type": "display_data",
          "data": {
            "text/plain": [
              "<Figure size 432x288 with 2 Axes>"
            ],
            "image/png": "[encoded data removed]"
          },
          "metadata": {
            "needs_background": "light"
          }
        }
      ]
    },
    {
      "cell_type": "code",
      "source": [
        "print(\"effnet_b2\")\n",
        "model_performance(predictions=all_results['effnet_b2']['predictions'], true_labels = all_results['effnet_b2']['true_labels'])"
      ],
      "metadata": {
        "colab": {
          "base_uri": "https://localhost:8080/",
          "height": 398
        },
        "id": "rVAnsBNnmEM8",
        "outputId": "4bab3822-764e-4202-ca26-adae6af35d82"
      },
      "id": "rVAnsBNnmEM8",
      "execution_count": 47,
      "outputs": [
        {
          "output_type": "stream",
          "name": "stdout",
          "text": [
            "effnet_b2\n",
            "[INFO] Getting Confusion Matrix\n",
            "Confusion matrix, without normalization\n",
            "[[99  1]\n",
            " [ 2 27]]\n"
          ]
        },
        {
          "output_type": "display_data",
          "data": {
            "text/plain": [
              "<Figure size 432x288 with 2 Axes>"
            ],
            "image/png": "[encoded data removed]"
          },
          "metadata": {
            "needs_background": "light"
          }
        }
      ]
    },
    {
      "cell_type": "code",
      "source": [
        "print(\"nas_net\")\n",
        "model_performance(predictions=all_results['nas_net']['predictions'], true_labels = all_results['nas_net']['true_labels'])"
      ],
      "metadata": {
        "colab": {
          "base_uri": "https://localhost:8080/",
          "height": 398
        },
        "id": "JwygKF_2mMDF",
        "outputId": "c9a1b571-18da-4b99-ecc7-9beb9e5b0789"
      },
      "id": "JwygKF_2mMDF",
      "execution_count": 48,
      "outputs": [
        {
          "output_type": "stream",
          "name": "stdout",
          "text": [
            "nas_net\n",
            "[INFO] Getting Confusion Matrix\n",
            "Confusion matrix, without normalization\n",
            "[[86 14]\n",
            " [ 4 25]]\n"
          ]
        },
        {
          "output_type": "display_data",
          "data": {
            "text/plain": [
              "<Figure size 432x288 with 2 Axes>"
            ],
            "image/png": "[encoded data removed]"
          },
          "metadata": {
            "needs_background": "light"
          }
        }
      ]
    },
    {
      "cell_type": "code",
      "source": [
        "print(\"inc_resnet_v2\")\n",
        "model_performance(predictions=all_results['inc_resnet_v2']['predictions'], true_labels = all_results['inc_resnet_v2']['true_labels'])"
      ],
      "metadata": {
        "colab": {
          "base_uri": "https://localhost:8080/",
          "height": 398
        },
        "id": "cviVv4ScmUqZ",
        "outputId": "1a6f0832-2732-40bf-9975-689312fba018"
      },
      "id": "cviVv4ScmUqZ",
      "execution_count": 49,
      "outputs": [
        {
          "output_type": "stream",
          "name": "stdout",
          "text": [
            "inc_resnet_v2\n",
            "[INFO] Getting Confusion Matrix\n",
            "Confusion matrix, without normalization\n",
            "[[88 12]\n",
            " [19 10]]\n"
          ]
        },
        {
          "output_type": "display_data",
          "data": {
            "text/plain": [
              "<Figure size 432x288 with 2 Axes>"
            ],
            "image/png": "[encoded data removed]"
          },
          "metadata": {
            "needs_background": "light"
          }
        }
      ]
    },
    {
      "cell_type": "code",
      "source": [
        ""
      ],
      "metadata": {
        "id": "-sCl1wg_mcPO"
      },
      "id": "-sCl1wg_mcPO",
      "execution_count": null,
      "outputs": []
    }
  ],
  "metadata": {
    "kernelspec": {
      "display_name": "Python 3 (ipykernel)",
      "language": "python",
      "name": "python3"
    },
    "language_info": {
      "codemirror_mode": {
        "name": "ipython",
        "version": 3
      },
      "file_extension": ".py",
      "mimetype": "text/x-python",
      "name": "python",
      "nbconvert_exporter": "python",
      "pygments_lexer": "ipython3",
      "version": "3.9.7"
    },
    "colab": {
      "name": "Liveness VGG16-Copy1.ipynb",
      "provenance": [],
      "collapsed_sections": [],
      "include_colab_link": true
    },
    "accelerator": "GPU",
    "gpuClass": "standard"
  },
  "nbformat": 4,
  "nbformat_minor": 5
}